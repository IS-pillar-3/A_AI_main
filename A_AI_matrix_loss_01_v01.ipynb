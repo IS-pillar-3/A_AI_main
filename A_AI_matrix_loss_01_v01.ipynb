{
 "cells": [
  {
   "cell_type": "markdown",
   "id": "36404fb1",
   "metadata": {},
   "source": [
    "# Matrix operations for single unit perceptron\n",
    "\n",
    "This notebook illustrates the matrix operations for the forward and backwards passes for a single unit binary classifier, using the sigmoid activation function, and the log loss loss function\n",
    "\n",
    "There is also a quiz question, for you to figure out"
   ]
  },
  {
   "cell_type": "code",
   "execution_count": null,
   "id": "04448a29",
   "metadata": {},
   "outputs": [],
   "source": [
    "#\n",
    "# This cell imports functions that are used later on\n",
    "#\n",
    "!wget -nv https://github.com/IS-pillar-3/A_AI_anc/raw/main/A_AI_matrix_loss_01_v01.py\n",
    "import A_AI_matrix_loss_01_v01 as ml\n",
    "#"
   ]
  },
  {
   "cell_type": "code",
   "execution_count": null,
   "id": "61d95d70",
   "metadata": {},
   "outputs": [],
   "source": [
    "#\n",
    "# Simulate forward and backward pass for single unit binary classifier\n",
    "#\n",
    "import numpy as np\n",
    "from sklearn.metrics import confusion_matrix\n",
    "#\n",
    "# Dimensions of generated training set\n",
    "#\n",
    "no_features = 5\n",
    "no_samples  = 10\n",
    "#\n",
    "# Set up X and Y for training, and W for weights\n",
    "#\n",
    "X = np.concatenate((np.ones((1, no_samples)), np.random.randn(no_features, no_samples)), axis=0)\n",
    "Y = np.random.choice([0, 1], size=(1, no_samples))\n",
    "W = np.random.randn(1, no_features + 1)\n",
    "#\n",
    "# Store results of activation function in F\n",
    "#\n",
    "Z = np.matmul(W, X)\n",
    "F = 1 / (1 + np.exp(-Z))\n",
    "#\n",
    "# Assume correct predictions are those >= 0.5\n",
    "#\n",
    "P = np.zeros_like(F)\n",
    "#\n",
    "P[F > 0.5] = 1 \n",
    "#\n",
    "# Prediction accuracy\n",
    "#\n",
    "tn, fp, fn, tp = confusion_matrix(Y[0,:], P[0,:]).ravel()\n",
    "#\n",
    "print(\"tp:\", tp, \", tn:\", tn, \", fp:\", fp, \", fn:\", fn)\n",
    "#\n",
    "# Calculate cost (= mean of all losses)\n",
    "#\n",
    "# This will be the quiz\n",
    "#\n",
    "# Calculate gradient\n",
    "#\n",
    "G = np.matmul((F - Y), np.transpose(X)) / no_samples\n",
    "#"
   ]
  },
  {
   "cell_type": "code",
   "execution_count": null,
   "id": "9b5a0496",
   "metadata": {},
   "outputs": [],
   "source": [
    "#\n",
    "# Show shapes of principal data structures\n",
    "#\n",
    "print(\"X shape:\", X.shape)\n",
    "print(\"Y shape:\", Y.shape)\n",
    "print(\"W shape:\", W.shape)\n",
    "print(\"Z shape:\", Z.shape)\n",
    "print(\"F shape:\", F.shape)\n",
    "print(\"G shape:\", G.shape)\n",
    "#"
   ]
  },
  {
   "cell_type": "markdown",
   "id": "50a6bfce",
   "metadata": {},
   "source": [
    "## Quiz\n",
    "\n",
    "*Can you use the data in the numpy arrays computed above to compute the value of the loss function for each sample?*\n",
    "\n",
    "*You can use the next cell to figure out your answer, and the cell below that to get it checked*"
   ]
  },
  {
   "cell_type": "code",
   "execution_count": null,
   "id": "8851bfc1",
   "metadata": {},
   "outputs": [],
   "source": [
    "#\n",
    "# Use this cell to work out your answer\n",
    "#"
   ]
  },
  {
   "cell_type": "markdown",
   "id": "c7c87cf7",
   "metadata": {},
   "source": [
    "*Change `myL` in the function call, to the variable you have created, containing the loss value for each sample. This is expected to be a numpy array, the same shape as `Y` and `Z`, and with the samples in the same sequence*"
   ]
  },
  {
   "cell_type": "code",
   "execution_count": null,
   "id": "4b506703",
   "metadata": {},
   "outputs": [],
   "source": [
    "#\n",
    "# Change myL to your variable, and then run the function to check your result\n",
    "#\n",
    "ml.check_loss(Y, F, L=myL)\n",
    "#"
   ]
  }
 ],
 "metadata": {
  "kernelspec": {
   "display_name": "Python 3 (ipykernel)",
   "language": "python",
   "name": "python3"
  },
  "language_info": {
   "codemirror_mode": {
    "name": "ipython",
    "version": 3
   },
   "file_extension": ".py",
   "mimetype": "text/x-python",
   "name": "python",
   "nbconvert_exporter": "python",
   "pygments_lexer": "ipython3",
   "version": "3.7.13"
  }
 },
 "nbformat": 4,
 "nbformat_minor": 5
}
