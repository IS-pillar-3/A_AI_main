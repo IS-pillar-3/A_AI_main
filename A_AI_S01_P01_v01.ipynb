{
 "cells": [
  {
   "cell_type": "markdown",
   "metadata": {},
   "source": [
    "# Applied AI for Health Research\n",
    "# Practical 1\n",
    "\n"
   ]
  },
  {
   "cell_type": "code",
   "execution_count": 1,
   "metadata": {
    "colab": {
     "background_save": true
    },
    "id": "ikjLYcvCnACs"
   },
   "outputs": [
    {
     "ename": "ModuleNotFoundError",
     "evalue": "No module named 'google.colab'",
     "output_type": "error",
     "traceback": [
      "\u001b[0;31m---------------------------------------------------------------------------\u001b[0m",
      "\u001b[0;31mModuleNotFoundError\u001b[0m                       Traceback (most recent call last)",
      "\u001b[0;32m/var/folders/yw/217_5q3n5lnf46sz86ph0jtw0000gn/T/ipykernel_88483/3823286883.py\u001b[0m in \u001b[0;36m<module>\u001b[0;34m\u001b[0m\n\u001b[1;32m      5\u001b[0m \u001b[0;31m#\u001b[0m\u001b[0;34m\u001b[0m\u001b[0;34m\u001b[0m\u001b[0;34m\u001b[0m\u001b[0m\n\u001b[1;32m      6\u001b[0m \u001b[0;32mif\u001b[0m \u001b[0mrunning_on_colab\u001b[0m\u001b[0;34m:\u001b[0m\u001b[0;34m\u001b[0m\u001b[0;34m\u001b[0m\u001b[0m\n\u001b[0;32m----> 7\u001b[0;31m     \u001b[0;32mfrom\u001b[0m \u001b[0mgoogle\u001b[0m\u001b[0;34m.\u001b[0m\u001b[0mcolab\u001b[0m \u001b[0;32mimport\u001b[0m \u001b[0mdrive\u001b[0m\u001b[0;34m\u001b[0m\u001b[0;34m\u001b[0m\u001b[0m\n\u001b[0m\u001b[1;32m      8\u001b[0m     \u001b[0mdrive\u001b[0m\u001b[0;34m.\u001b[0m\u001b[0mmount\u001b[0m\u001b[0;34m(\u001b[0m\u001b[0;34m'/content/drive'\u001b[0m\u001b[0;34m)\u001b[0m\u001b[0;34m\u001b[0m\u001b[0;34m\u001b[0m\u001b[0m\n",
      "\u001b[0;31mModuleNotFoundError\u001b[0m: No module named 'google.colab'"
     ]
    }
   ],
   "source": [
    "#\n",
    "# I modified this\n",
    "#\n",
    "running_on_colab = False\n",
    "#\n",
    "if running_on_colab:\n",
    "    from google.colab import drive\n",
    "    drive.mount('/content/drive')"
   ]
  },
  {
   "cell_type": "markdown",
   "metadata": {
    "id": "N9PySGSUUm3K"
   },
   "source": [
    "# Lecture 1: The inner workings of neural networks\n",
    "\n",
    "## The relationship between artifical and biological neurons\n",
    "\n",
    "The basic biological unit of brain computation is a neuronal cell (see figure below). Each cell is essentially an electrical device that receives signals at the dendrites (surrounding the cell body) and, once these exceed a threshold, transmits the signal down the cell axon to synaptic terminals, where it then connects with other cells.\n",
    "\n",
    "<img src=\"https://drive.google.com/uc?id=1i3nntiP9pWUCyFNfZGPL-Rvg-8EYXftg\" alt=\"Drawing\" style=\"width: 800px;\"/>\n",
    "\n",
    "Artificial neurons are designed to mimic this process, but only in a limited or constrained way. The idea is that the modulatory effect of the different synaptic connections is modelled through linear multiplication  of input signals $x_i$ with weights $w_i$, plus a bias term which shifts the centre of the prediction from zero. If the final sum is high enough, modelled through an nonlinear activation function $f$, the artificial neuron is allowed to ‘fire’ in response to that pattern of activation. \n",
    "\n",
    "Then, the optimisation process of neural networks involves learning optimal weights and biases to perform a given task. \n",
    "\n",
    "Note, while it can be useful to explain how the design of artifical neurons was motivated by the concept of biological networks, they remain far from a close simulation of the true thing. In truth design of many components of the most common artificial networks used for computer vision today are more inspired by engineering choices than any true goal to replicate human brain function. Biologically inspired neural networks  exist but, to an extent, they are a are a separate and  distinct line of research.\n",
    "\n",
    "For more details, and the source which inspired the neuron diagram, see the explanation from [CS231n Convolutional Neural Networks for Visual Recognition](http://cs231n.github.io/neural-networks-1/)\n",
    "\n",
    "## A Single Neuron Logistic Regression Classifier\n",
    "\n",
    "To understand how neural networks work, it serves to consider a single neuron as a logistic regression classifier:\n",
    "\n",
    "<img src=\"https://drive.google.com/uc?id=1bz_hR949l986NLChyme1tlD4gyg1VoF4\" alt=\"Drawing\" style=\"width: 800px;\"/>\n",
    "\n",
    "Here the line $z =0$ defines a separating hyperplane, where the bias term $w_0$ has shifted this from the origin, and all data points with $z >0$ are assigned to the positive class, and all data points with $z < 0$ are assigned the negative class.\n",
    "\n",
    "The vector $\\mathbf{W}$ runs perpendicular to the line $z =0$ and defines the direction in which data classes are maximally separated when projected onto it. \n",
    "\n",
    "\n",
    "<img src=\"https://drive.google.com/uc?id=1PX-napPbTEAVAhe2zwoukRNbjoAZbk4p\" alt=\"Drawing\" style=\"width: 100px;\"/>\n",
    "\n",
    "## Exercise 1: Implementing a single neuron classifier through logistic regression\n",
    "\n",
    "In this section we will train a classifier to predict if a neonate is preterm based on volume measures of 86 brain volumes. We will code up and train a logistic regression classifier from scratch.\n",
    "\n",
    "### Import the data\n",
    "The data are in the file \"prem_vs_termwrois.pkl\". The final column indicates whether each data set was collected from a term or preterm baby (scanned at term equivalent age). The data represent mean vales of three different types of cortical imaging data: cortical thickness, cortical folding and cortical myelination, all averaged within 100 regions of interest ROIS on the surface. This gives 300 features in total. \n",
    "\n",
    "<img src=\"https://drive.google.com/uc?id=1ZbAn0R_ihQ4DCe1XyKaHIRZSvUQv3puh\" alt=\"Drawing\" style=\"width: 800px;\"/>\n",
    "\n",
    "There are 101 babies, 50 terms and 51 preterms. The code below loads the file and splits the data randomly into a train and test set. The data is transposed such that the rows reflect features and the columns examples (as expected from the lectures notation). A row of ones is added to each dataset to allow model;ling of the bias term.\n",
    "\n",
    "**To Do** upload the data file to your local Google Drive, update the ```file_path``` accordingly and run the below code cell.\n",
    "\n",
    "**Be sure to understand what each line is doing.**"
   ]
  },
  {
   "cell_type": "code",
   "execution_count": 4,
   "metadata": {
    "id": "j303w0jSUm3M"
   },
   "outputs": [
    {
     "name": "stdout",
     "output_type": "stream",
     "text": [
      "Dimension of X is  (301, 90) (101, 300)\n",
      "Dimension of y is  (1, 90)\n",
      "Number of features 300\n",
      "Number of examples 90\n"
     ]
    }
   ],
   "source": [
    "import pandas as pd\n",
    "import numpy as np\n",
    "from sklearn.model_selection import train_test_split\n",
    "\n",
    "# STUDENTS CODE HERE - UPDATE THE PATH TO CORRESPOND TO WHERE YOU HAVE UPLOADED prem_vs_termwrois.pkl TO YOUR DRIVE #\n",
    "if running_on_colab:\n",
    "    file_path = '/content/drive/My Drive/Colab Notebooks/AdvancedML/2021/01_fundamentals/prem_vs_termwrois.pkl'\n",
    "else:\n",
    "    file_path = \"prem_vs_termwrois.pkl\"\n",
    "#\n",
    "# Read the data\n",
    "df = pd.read_pickle(file_path)\n",
    "data = df.values[:,:-2]\n",
    "y = df.values[:,-1]\n",
    "\n",
    "# create a test and train split\n",
    "X_train, X_test, y_train, y_test = train_test_split(data, y, test_size=0.1, random_state=42)\n",
    "\n",
    "# Create feature matrix\n",
    "X_train = X_train.T\n",
    "X_test=X_test.T\n",
    "\n",
    "#reshape y to (1 x n_T) matrix\n",
    "y_train=np.expand_dims(y_train, axis=0)\n",
    "y_test=np.expand_dims(y_test, axis=0)\n",
    "\n",
    "\n",
    "# add a row of ones for multiplication with bias term\n",
    "X_train = np.concatenate((np.ones((1,X_train.shape[1])),X_train))\n",
    "X_test = np.concatenate((np.ones((1,X_test.shape[1])),X_test))\n",
    "\n",
    "# set variables for numbers of feature and examples to improve readabiity of code\n",
    "n_features=X_train.shape[0]-1\n",
    "n_examples=X_train.shape[1]\n",
    "\n",
    "print('Dimension of X is ', X_train.shape,data.shape)\n",
    "print('Dimension of y is ', y_train.shape)\n",
    "\n",
    "print('Number of features', n_features)\n",
    "print('Number of examples', n_examples)"
   ]
  },
  {
   "cell_type": "code",
   "execution_count": 7,
   "metadata": {},
   "outputs": [],
   "source": [
    "#\n",
    "# I put this cell in so I could see the data\n",
    "#\n",
    "# NB: Need to be a bit careful here since raw data has not been transposed to [p, n]\n",
    "#\n",
    "df.to_csv(\"prem_vs_termwrois.csv\")"
   ]
  },
  {
   "cell_type": "code",
   "execution_count": 8,
   "metadata": {},
   "outputs": [
    {
     "data": {
      "text/plain": [
       "(301, 90)"
      ]
     },
     "execution_count": 8,
     "metadata": {},
     "output_type": "execute_result"
    }
   ],
   "source": [
    "#\n",
    "# I put this cell in\n",
    "#\n",
    "X_train.shape\n",
    "#\n",
    "# So it comes out as 301, 90 which is [p, n]\n",
    "#"
   ]
  },
  {
   "cell_type": "markdown",
   "metadata": {
    "id": "of0GyW9rUm3Q"
   },
   "source": [
    "### Eyeball the data\n",
    "The following code plots histograms of a single feature (brain volume) for preterms vs terms. Run the code for a few different values of 'feature'."
   ]
  },
  {
   "cell_type": "code",
   "execution_count": 6,
   "metadata": {
    "id": "-Ydk_R3yUm3R"
   },
   "outputs": [
    {
     "data": {
      "image/png": "[encoded data removed]",
      "text/plain": [
       "<Figure size 432x288 with 1 Axes>"
      ]
     },
     "metadata": {
      "needs_background": "light"
     },
     "output_type": "display_data"
    }
   ],
   "source": [
    "import matplotlib.pyplot as plt\n",
    "%matplotlib inline\n",
    "\n",
    "#### STUDENT'S CODE HERE ####\n",
    "# try values between 0 and 300\n",
    "#feature = 150\n",
    "feature = 299\n",
    "\n",
    "plt.hist(X_train[feature+1, y_train[0]==0], bins=30)\n",
    "plt.hist(X_train[feature+1, y_train[0]==1], bins=30)\n",
    "plt.xlabel('Feature number {}/86'.format(feature))\n",
    "plt.ylabel('Frequency')\n",
    "plt.legend(['Term','Preterm']);"
   ]
  },
  {
   "cell_type": "markdown",
   "metadata": {
    "id": "QExCDN2aUm3T"
   },
   "source": [
    "### Model\n",
    "\n",
    "Our predictions for a single logistric regression classifier may be written:\n",
    "$$ f= f(z) = \\dfrac{1}{1+e^{-z}} $$\n",
    "\n",
    "Where, for $f$ is the sigmoid function and $$z$$ is the linear transform of $\\mathbf{x}$ by $\\mathbf{w}$:\n",
    "\n",
    "$$z=w_0 + w_1x_1 + w_2x_2 +w_3x_3....+w_m x_m$$\n",
    "\n",
    "Here $w_0$ is the bias term, $w_1,w_2....w_m$ are the weights;, $m$ is the number of features and $\\mathbf{x}$ is a single example (i.e. one column) from our training set $X \\in \\mathbb{R}^{m\\times n}$ .\n",
    "\n",
    "### Implementation of the forward pass\n",
    "\n",
    "We could calculate $f$ in one line of code, but it will come in handy when considering backpropagation later to consider the computation in stages, with each stage consisting of a simple module:\n",
    "\n",
    "$$\n",
    "\\begin{align} \n",
    "\\mathbf{Z} &= \\mathbf{W} \\mathbf{X} \\\\\n",
    "\\mathbf{F}=f(\\mathbf{Z}) &= \\dfrac{1}{1+e^{-\\mathbf{Z}}} \n",
    "\\end{align}\n",
    "$$\n",
    "\n",
    "Implemented using vectorisation. \n",
    "\n"
   ]
  },
  {
   "cell_type": "markdown",
   "metadata": {
    "id": "YNYIH2_LUm3V"
   },
   "source": [
    "### Task 1.1 Initialise $\\mathbf{W}$\n",
    "\n",
    "**To do** Create a matrix of zeros to initialise $\\mathbf{W}$ (note initialisation by zero is ok for a single neuron). \n",
    "\n",
    "- If $\\mathbf{X}$ has shape $(m_{features} \\times n_{examples})$, and we know that $\\mathbf{Z}$ (and thus $\\mathbf{F}$) should return _one_ scalar prediction _per example_, what shape should $\\mathbf{W}$ be? "
   ]
  },
  {
   "cell_type": "code",
   "execution_count": 8,
   "metadata": {
    "id": "mBfjieGBUm3V"
   },
   "outputs": [
    {
     "name": "stdout",
     "output_type": "stream",
     "text": [
      "(301,)\n"
     ]
    }
   ],
   "source": [
    "#### STUDENT'S CODE HERE ####\n",
    "#\n",
    "# Both work, I suppose the vector version is a bit cleaner - i.e. its a column vector\n",
    "# whereas [1, 301] is more accurate in principal and creates a row vector (i.e. 1 row many columns)\n",
    "#\n",
    "#W = np.zeros([1, 301], dtype=float)\n",
    "W = np.zeros(301, dtype=float)\n",
    "# Answer:\n",
    "print(W.shape)"
   ]
  },
  {
   "cell_type": "code",
   "execution_count": 17,
   "metadata": {},
   "outputs": [
    {
     "name": "stdout",
     "output_type": "stream",
     "text": [
      "[-1.45318122e-01  4.42462664e-01 -2.44283383e-01 -2.65698001e-01\n",
      " -2.57126901e-01 -3.44011537e-01  8.29151686e-03  3.04658973e-01\n",
      " -2.87009817e-01  4.52241573e-01 -4.17763347e-01 -3.35829910e-02\n",
      "  6.54160177e-02  2.35284320e-01  3.10059555e-01 -4.95418097e-02\n",
      " -1.75625986e-01 -2.57206664e-01 -2.65487306e-01  2.77631188e-01\n",
      "  1.31958482e-02  2.69302673e-01  6.01958106e-02 -3.41887973e-01\n",
      "  1.92822069e-01 -7.96566821e-02 -7.05670176e-02  5.84003259e-02\n",
      "  1.89484943e-01  3.82645344e-01  2.83112874e-01 -3.28666262e-01\n",
      " -3.34172971e-01  2.23095538e-02 -3.70338340e-01  4.86441639e-01\n",
      " -4.82935834e-01  8.35553935e-03  1.80871372e-01 -4.90956315e-01\n",
      "  2.01072502e-01  3.82456602e-02  4.26645495e-01  4.43930498e-01\n",
      " -7.32963877e-02  4.45960281e-01 -2.93106876e-01 -1.30445575e-01\n",
      "  1.21617148e-01 -1.56332285e-01 -6.62325273e-02  4.30661680e-01\n",
      " -8.01745630e-03 -3.70657567e-01  4.41389654e-02  3.05838684e-01\n",
      " -1.35453517e-04 -3.06295726e-01 -1.97559850e-01 -2.68453690e-01\n",
      "  7.27505548e-02  1.88202256e-02 -7.60216287e-02 -1.42803143e-01\n",
      "  1.21262115e-01 -3.10785226e-01  4.70861715e-03 -2.76171243e-01\n",
      " -2.45863124e-01  4.45738372e-01  1.27658973e-01 -2.97415810e-01\n",
      "  1.82984830e-01 -2.06699216e-01 -1.87410942e-01 -1.55597593e-01\n",
      " -3.52254588e-01 -4.92352758e-01 -3.96778322e-01 -1.65852068e-01\n",
      "  3.60072032e-01 -4.91667433e-01  2.73004877e-01  3.96188780e-01\n",
      "  8.04879216e-02  4.30338283e-01 -2.13106132e-01  1.39789032e-01\n",
      "  2.77168768e-01 -1.08111320e-01  1.56679028e-01 -3.55303537e-01\n",
      " -3.42451416e-01  2.40473091e-01  6.13508839e-02  3.20014308e-01\n",
      " -2.18148626e-01  7.85831774e-02  2.06493490e-01 -1.72580245e-02\n",
      "  4.81731328e-02 -3.80495368e-01  3.56908475e-01 -3.22304061e-02\n",
      "  3.43363861e-01 -3.20717104e-01  4.93464416e-01 -7.99672116e-02\n",
      " -2.32466158e-01 -2.42964240e-01  4.99066657e-01 -4.27699327e-01\n",
      " -4.01725345e-01 -2.19551569e-01 -2.18638489e-01  3.33352818e-01\n",
      "  8.42650721e-02  1.64740251e-01 -1.50125899e-01  2.19468505e-01\n",
      "  4.36267371e-02 -1.70037323e-01  2.79565296e-01  3.12148490e-01\n",
      "  1.04760578e-02 -2.17357586e-01 -1.85571209e-01  4.22775859e-01\n",
      " -3.64729782e-01  2.48523701e-01 -4.30991883e-01 -4.91753364e-01\n",
      "  3.09977351e-01  2.07739256e-01 -1.11953537e-01 -2.21742170e-01\n",
      "  2.13593864e-01  1.06425806e-01  4.08033666e-01 -3.32846807e-01\n",
      "  6.61346425e-02  4.96464181e-01 -3.47796822e-01  2.57587446e-01\n",
      "  9.44389772e-02  3.12511822e-01  4.36272568e-01 -2.73328423e-01\n",
      " -2.30002665e-02  2.53761915e-01 -2.02451617e-01 -3.03866105e-01\n",
      "  2.29841592e-01  2.58564122e-01  2.17361699e-01  3.85014997e-01\n",
      "  4.21772771e-01  1.21699454e-01 -1.26914639e-01  2.99319137e-01\n",
      " -1.70548048e-01  4.71984102e-01  2.87734721e-01 -3.66221911e-02\n",
      " -1.16464975e-01 -2.03447276e-01  3.13144365e-01 -3.66262375e-01\n",
      "  1.16696035e-01  9.08332075e-02  9.86290833e-02  1.58581803e-01\n",
      " -4.89483702e-01 -2.39928900e-01 -1.93059624e-01 -2.63120738e-01\n",
      " -8.56195630e-02  1.83920555e-01 -9.62664556e-02  1.35000781e-01\n",
      " -2.94417521e-01 -1.97911696e-01 -3.73664454e-01 -1.74388647e-01\n",
      " -4.94295774e-01  7.88989414e-02  3.06703129e-03  1.22380246e-01\n",
      " -1.48798802e-01 -2.38489981e-01 -1.35402841e-01  3.13789638e-01\n",
      " -3.31762820e-01  2.80862289e-01 -4.38872981e-01  3.21267245e-01\n",
      " -1.24777605e-01 -4.01940631e-01 -1.22199500e-01 -1.06580737e-01\n",
      " -4.91534748e-01  4.71746423e-01  2.60360691e-01 -2.00083464e-01\n",
      "  8.47031690e-03 -1.85043447e-01 -2.45421287e-01 -3.77006442e-01\n",
      "  1.73486147e-01  6.04231606e-02 -1.72369317e-01 -2.47874139e-01\n",
      " -2.22969921e-02 -1.75093194e-01  1.75319919e-01 -3.09264412e-01\n",
      " -4.62627049e-01 -3.29566218e-01 -1.50632931e-01 -2.21992779e-02\n",
      " -2.54565058e-01 -3.06407190e-01  4.05126799e-01 -4.81540467e-01\n",
      "  3.27833861e-01  4.34374240e-01 -4.19489566e-02 -4.18729271e-01\n",
      "  4.44341948e-01  7.52926590e-02 -2.38651034e-02  1.07033118e-02\n",
      " -3.88106437e-01  8.67465608e-02 -9.18230664e-03 -3.31572440e-01\n",
      "  4.33982678e-01 -2.52701595e-01  3.47553841e-01 -1.98152938e-02\n",
      "  2.69042235e-02 -1.79302701e-01  1.01981126e-01  3.87581410e-01\n",
      "  4.80849868e-01 -1.11502236e-01  9.94707005e-02 -2.64171805e-01\n",
      " -4.89734453e-01  2.57939801e-01 -1.73550326e-01 -1.04063828e-01\n",
      " -3.25498085e-01  2.38683409e-01 -1.17592510e-01  1.48482456e-01\n",
      " -2.65592564e-01  4.01855006e-01  1.24588745e-01 -2.17612693e-01\n",
      " -4.63632661e-01 -2.30820307e-01 -2.36725150e-01 -9.09802631e-02\n",
      "  2.70739270e-01  2.06504292e-01  3.52955353e-01  6.57327742e-02\n",
      " -1.37834951e-01 -5.01338466e-03  1.12930286e-01 -5.06862268e-02\n",
      "  4.95949760e-02  3.80641716e-01 -4.55720734e-01  7.32740714e-02\n",
      " -3.33187561e-01 -8.83292172e-02  1.94482193e-01 -1.09219196e-01\n",
      "  3.50749471e-01  2.57233769e-01  3.60548379e-01  1.15683610e-01\n",
      " -2.05088312e-01  2.27717056e-01  2.05328997e-01 -2.05130334e-01\n",
      "  4.57710793e-01 -7.42700834e-02  4.00140847e-01 -3.62422384e-01\n",
      "  1.84815229e-01  7.59839690e-03  2.44455018e-01  4.90615241e-01\n",
      " -2.04660592e-01  4.26016145e-01 -1.17020217e-01 -4.83845086e-01\n",
      " -4.07292100e-01]\n"
     ]
    }
   ],
   "source": [
    "#\n",
    "# I'm just making it a bit more interesting with non-zero weights\n",
    "#\n",
    "W = np.random.rand(301) - 0.5\n",
    "print(W)"
   ]
  },
  {
   "cell_type": "markdown",
   "metadata": {
    "id": "re2-XSGq7KZZ"
   },
   "source": [
    "### Task 1.2 Estimate $\\mathbf{Z}$: \n",
    "\n",
    "**To do** Write a function $z(w,x)$ that uses vectorisation to linearly transform data matrix $\\mathbf{X}$ using the weights matrix $\\mathbf{W}$.\n",
    "\n",
    "**Hint** implement $\\mathbf{Z} = \\mathbf{W} \\mathbf{X}$; print out the shape - is it what you would expect?\n"
   ]
  },
  {
   "cell_type": "code",
   "execution_count": 19,
   "metadata": {
    "id": "9ziYkuJOUm3T"
   },
   "outputs": [
    {
     "name": "stdout",
     "output_type": "stream",
     "text": [
      "(90,)\n"
     ]
    }
   ],
   "source": [
    "# task 1.2 complete function to calculate Z (can be done in one line in the return statement)\n",
    "def z(w,x):\n",
    "    #### STUDENT'S CODE HERE ####\n",
    "    return np.matmul(w, x)\n",
    "\n",
    "Z = z(W,X_train)\n",
    "print(Z.shape)"
   ]
  },
  {
   "cell_type": "markdown",
   "metadata": {
    "id": "7JPKqUVuUm3Y"
   },
   "source": [
    "### Task 1.3 Implement Sigmoid function f: \n",
    "\n",
    "**To do** Now write a function to compute $f(\\mathbf{Z})=\\dfrac{1}{1+e^{-\\mathbf{Z}}} $, our logistic regression function:\n",
    "\n",
    "**Hint** don't forget to implement with numpy functions - to support vectorisation"
   ]
  },
  {
   "cell_type": "code",
   "execution_count": 26,
   "metadata": {},
   "outputs": [
    {
     "name": "stdout",
     "output_type": "stream",
     "text": [
      "[0.08308693 0.07902029 0.10193474 0.07863095 0.08823107 0.07440353\n",
      " 0.15361047 0.09768775 0.0927298  0.12646898 0.129329   0.16020196\n",
      " 0.1320178  0.12446809 0.07905117 0.08344038 0.1082308  0.09059476\n",
      " 0.09573213 0.10990414 0.12086946 0.08952739 0.0692495  0.08357295\n",
      " 0.07381796 0.12946158 0.12628266 0.11815829 0.10094735 0.09803785\n",
      " 0.10991909 0.12360761 0.04733751 0.10994599 0.08816454 0.14016862\n",
      " 0.08792181 0.05296529 0.12437959 0.09123498 0.14383051 0.12178138\n",
      " 0.06643256 0.0811126  0.11108567 0.06086472 0.07254336 0.12315793\n",
      " 0.08841809 0.0731495  0.11069117 0.08618878 0.11887805 0.08222868\n",
      " 0.0972968  0.10436327 0.09005629 0.05917612 0.14301112 0.13289479\n",
      " 0.08641858 0.10688128 0.07060787 0.08203876 0.07345461 0.14922311\n",
      " 0.07100118 0.11790478 0.07793559 0.09000051 0.11111214 0.14239484\n",
      " 0.11015949 0.14142798 0.10454557 0.11202916 0.08677183 0.03256962\n",
      " 0.09105923 0.11208129 0.10151022 0.04834533 0.11406087 0.13193918\n",
      " 0.09029769 0.12121154 0.09880953 0.07572543 0.08323477 0.08496985]\n"
     ]
    }
   ],
   "source": [
    "#\n",
    "def sigmoid(Z):\n",
    "    return 1 / (1 + np.exp(-Z))\n",
    "#\n",
    "print(sigmoid(Z))"
   ]
  },
  {
   "cell_type": "code",
   "execution_count": 28,
   "metadata": {
    "id": "zqLM6S0gUm3Y"
   },
   "outputs": [],
   "source": [
    "# task 1.3 implement sigmoid function with vectorisation (in one line in the return statement)\n",
    "def f(z):\n",
    "  #### STUDENT'S CODE HERE ####\n",
    "    return 1 / (1 + np.exp(-z))"
   ]
  },
  {
   "cell_type": "markdown",
   "metadata": {
    "id": "UXCKUvBPUm3a"
   },
   "source": [
    "**To do** Verify your softmax looks right by running this plotting code:"
   ]
  },
  {
   "cell_type": "code",
   "execution_count": 29,
   "metadata": {
    "id": "r4SHs64oUm3a"
   },
   "outputs": [
    {
     "data": {
      "image/png": "[encoded data removed]",
      "text/plain": [
       "<Figure size 432x288 with 1 Axes>"
      ]
     },
     "metadata": {
      "needs_background": "light"
     },
     "output_type": "display_data"
    }
   ],
   "source": [
    "inputs = np.linspace(-10,10)\n",
    "outputs = f(inputs)\n",
    "plt.plot(inputs, outputs)\n",
    "plt.xlabel('z')\n",
    "plt.ylabel('sigmoid(z)');"
   ]
  },
  {
   "cell_type": "markdown",
   "metadata": {
    "id": "8WeqRIOUUm3c"
   },
   "source": [
    "We're now in a position to compute some predictions $\\mathbf{\\hat{y}}$ (**run below code cells**):"
   ]
  },
  {
   "cell_type": "code",
   "execution_count": 30,
   "metadata": {
    "id": "0c2TznnyUm3c"
   },
   "outputs": [],
   "source": [
    "y_pred = f(z(W,X_train))"
   ]
  },
  {
   "cell_type": "markdown",
   "metadata": {
    "id": "VjQBHdE6Um3e"
   },
   "source": [
    "**To do** Are these predictions any good? Let's take a look at the accuracy (run below cell):"
   ]
  },
  {
   "cell_type": "code",
   "execution_count": 31,
   "metadata": {
    "id": "Uoj4OTlrUm3g"
   },
   "outputs": [],
   "source": [
    "def accuracy(y, y_pred, threshold = 0.5):\n",
    "    y_pred_thresholded = y_pred > threshold\n",
    "    correct_predictions = np.sum(y==y_pred_thresholded) \n",
    "    total_predictions = y.shape[1]\n",
    "    accuracy = 100 * correct_predictions / total_predictions\n",
    "    return accuracy"
   ]
  },
  {
   "cell_type": "code",
   "execution_count": 32,
   "metadata": {
    "id": "43qXm4ofUm3i"
   },
   "outputs": [
    {
     "name": "stdout",
     "output_type": "stream",
     "text": [
      "47.77777777777778\n"
     ]
    }
   ],
   "source": [
    "y_pred = f(z(W, X_train))\n",
    "print(accuracy(y_train, y_pred))"
   ]
  },
  {
   "cell_type": "markdown",
   "metadata": {
    "id": "5DQzn0WRUm3k"
   },
   "source": [
    "Look at the predictions ```y_pred```, what does this initial prediction return and why? **Enter your answer in the box below**"
   ]
  },
  {
   "cell_type": "markdown",
   "metadata": {
    "id": "d52gogye6n2O"
   },
   "source": [
    "**Answer:**"
   ]
  },
  {
   "cell_type": "markdown",
   "metadata": {
    "id": "aVEpgDgPUm3n"
   },
   "source": [
    "### Task 1.4 Implement Cross Entropy Loss:\n",
    "\n",
    "Accuracy is easy to intepret, but can't be optimised using gradient descent. We need a measure of our prediction quality that can be. A typical loss function used in  classification problems is cross-entropy:\n",
    "\n",
    "$$L(y_i,f(z_i)) = - y_i \\ln(f(z_i)) - (1-y_i) \\ln(1-f(z_i))$$\n",
    "\n",
    "This may be implemented using vectorisation as:\n",
    "\n",
    "$$L(\\mathbf{Y},\\mathbf{F}) = - \\mathbf{Y} \\ln(\\mathbf{F} + \\epsilon) - (1-\\mathbf{Y}) \\ln(1-\\mathbf{F} + \\epsilon)$$\n",
    "\n",
    "This returns a vector of losses $(L_1,L_2....L_n)$ estimated for all training examples n. The $\\epsilon$ is added for numerical stability. We require the total cost estimated as:\n",
    "\n",
    "$$ J(\\mathbf{W})= \\frac{1}{n} \\sum_i L_i(y_i,f(z_i)) $$\n",
    "\n",
    "**To do Implement the Cross-Entropy loss and return the total cost**\n",
    "\n",
    "**hint** using numpy functions for vectorisation. "
   ]
  },
  {
   "cell_type": "code",
   "execution_count": null,
   "metadata": {
    "id": "LjKFxwASUm3o"
   },
   "outputs": [],
   "source": [
    "# task 1.4 implement loss function to calculate cross-entropy loss for all examples and average to return total cost\n",
    "# note the negative sign so that the loss decreases as our predictions get better\n",
    "def loss(y, y_pred):\n",
    "    epsilon = 1e-5\n",
    "    #### STUDENT'S CODE HERE - replace Nones - ####\n",
    "    # note, we must add a small penalty term (epsilon) to prevent calculation of log(0)\n",
    "    L = None\n",
    "    J = None \n",
    "    return J"
   ]
  },
  {
   "cell_type": "code",
   "execution_count": null,
   "metadata": {
    "id": "ftVHqyS2Um3r"
   },
   "outputs": [],
   "source": [
    "total_loss= loss(y_train,y_pred)\n",
    "print(total_loss)"
   ]
  },
  {
   "cell_type": "markdown",
   "metadata": {
    "id": "zbo7wTt_Um3u"
   },
   "source": [
    "## The Computation Graph\n",
    "\n",
    "Now we have our functions for $\\mathbf{L}$ and $\\mathbf{Z}$, and initialised $\\mathbf{W}$, we are finally in a position to compute a forward and backward pass. Computation graphs can help us to this by tracking the order of operations. The computation graph for logistic regression is:\n",
    "\n",
    "<img src=\"https://drive.google.com/uc?id=1tWrFwh_lT_RVfYmodkvR_uRP8JOGfOu0\" alt=\"Drawing\" style=\"width: 800px;\"/>\n",
    "\n",
    "We can estimate the backwards pass using the chain rule:\n",
    "\n",
    "> > > > > >  <img src=\"https://drive.google.com/uc?id=14tKMEhXhlP2psxfdxrNWTt8M-LcfZL9m\" alt=\"Drawing\" style=\"width: 100px;\"/>\n",
    "\n",
    "Working backwards from the right side, this determines that to calculate the gradient of the loss with respect to the parameters we need;\n",
    "\n",
    "<img src=\"https://drive.google.com/uc?id=1R3qEtBPHZCwJ_e3uWwWoO5vx050vjGgg\" alt=\"Drawing\" style=\"width: 800px;\"/>\n",
    "\n",
    "And don't forget that the full cost equates to the mean of the loss over all examples $J=\\frac{1}{n_T}\\sum_i L_I$ , $\\dfrac{dJ}{dW}=\\frac{1}{n_T} \\sum_i \\dfrac{dL_i}{dW} $ . All calculations should be vectorised. \n",
    "\n",
    "### Task 1.5 Implement Forward Pass\n",
    "\n",
    "\n",
    "We now have all the components of the forward pass for our logistic regression. Write a full forward pass that takes data, targets and a weight matrix and performs the forward pass, with vectorisation calculating the loss:"
   ]
  },
  {
   "cell_type": "code",
   "execution_count": null,
   "metadata": {
    "id": "zAYzwvT7Um3v"
   },
   "outputs": [],
   "source": [
    "# task 1.5 implement the forwards pass to calculate F and then print loss and accuracy\n",
    "def forward_pass(X, y, W):\n",
    "    #### STUDENT'S CODE HERE - replace Nones to calculate F (loss and accruacy is printed for you) - ####\n",
    "    F = None\n",
    "    print('Loss: {}'.format(loss(y,y_pred)))\n",
    "    print('Accuracy: {}'.format(accuracy(y,y_pred)))"
   ]
  },
  {
   "cell_type": "code",
   "execution_count": null,
   "metadata": {
    "id": "H8wYS0MMUm3x"
   },
   "outputs": [],
   "source": [
    "#perform forward pass\n",
    "forward_pass(X_train,y_train, W)"
   ]
  },
  {
   "cell_type": "markdown",
   "metadata": {
    "id": "UieT9ii0Um3z"
   },
   "source": [
    "### Task 1.6 Implement backwards pass\n",
    "\n",
    "We're now ready to try and adjust our parameters $\\mathbf{W}$ in order to optimise our predictions. To do this we need to calculate the change in our loss function with respect to our parameters, $\\dfrac{\\partial L}{\\partial \\mathbf{W}}$. \n",
    "\n",
    "Recalling our staged calculation of the logistic regression (in vectorised form):\n",
    "\n",
    "$$\n",
    "\\mathbf{Z} = \\mathbf{W} \\mathbf{X} \\\\\n",
    "\\mathbf{F}= \\dfrac{1}{1+e^{- \\mathbf{Z}}} \\\\\n",
    "\\mathbf{L}  =  - \\mathbf{Y} \\ln(\\mathbf{F}) - (1-\\mathbf{Y}) \\ln(1-\\mathbf{F})\n",
    "$$\n",
    "\n",
    "We can write the vectorised gradients for each individual stage (see lecture slides and keats quiz): \n",
    "\n",
    "$$\n",
    "\\dfrac{\\partial L}{\\partial f} = \\dfrac{\\mathbf{F} - \\mathbf{Y}}{\\mathbf{F}(1-\\mathbf{F})}\\\\\n",
    "\\dfrac{\\partial f}{\\partial z} = \\mathbf{F}(1-\\mathbf{F}) \\\\\n",
    "\\dfrac{\\partial z}{\\partial w} = \\mathbf{X}^T\n",
    "$$\n",
    "\n",
    "And compose through the chain rule:\n",
    "\n",
    "$$ \n",
    "\\dfrac{\\partial L}{\\partial w} = \\dfrac{\\partial L}{\\partial f} \\cdot \\dfrac{\\partial f}{\\partial z} \\cdot\\dfrac{\\partial z}{\\partial w} \\\\\n",
    "\\dfrac{\\partial L}{\\partial w} = \\dfrac{\\mathbf{F} - \\mathbf{Y}}{\\mathbf{F}(1-\\mathbf{F})} \\cdot \\mathbf{F}(1-\\mathbf{F}) \\cdot \\mathbf{X}^T\n",
    "$$\n",
    "\n",
    "Which can be simplified by cancelling $ \\mathbf{F}(1-\\mathbf{F})$ terms in both the numerator and the denominator: \n",
    "\n",
    "$$ \\dfrac{\\partial L}{\\partial w} = (\\mathbf{F} - \\mathbf{Y}) \\mathbf{X}^T $$\n",
    "\n",
    "Let's calculate the gradient of our loss, $\\dfrac{\\partial L}{\\partial \\mathbf{W}}$, for a **single** input, $\\mathbf{x}$. \n",
    "\n",
    "**To do** Fill in the calculations of the backward pass in the following code:"
   ]
  },
  {
   "cell_type": "code",
   "execution_count": null,
   "metadata": {
    "id": "9TeNvOH1Um3z"
   },
   "outputs": [],
   "source": [
    "W = np.zeros((1,X_train.shape[0]))\n",
    "\n",
    "# select just the first example here\n",
    "x = X_train[:,0]\n",
    "y_single = y[0]\n",
    "print('The true value of y is: {}'.format(y_single))\n",
    "\n",
    "# calculate the forward pass, and store the outputs at each stage\n",
    "Z = z(W,x)\n",
    "F = f(Z)\n",
    "print('Our prediction for y is: {}'.format(F))\n",
    "\n",
    "l = loss(y_single,F)\n",
    "print('The loss is {}'.format(l))\n",
    "\n",
    "#### STUDENT'S CODE HERE - replace Nones - ####\n",
    "# now enter the backwards pass here, \n",
    "#implementing using the equations above:\n",
    "dl_dw = None\n",
    "\n",
    "print(dl_dw.shape,W.shape,x.shape)"
   ]
  },
  {
   "cell_type": "markdown",
   "metadata": {
    "id": "lgLcN7B1Um31"
   },
   "source": [
    "**To do - run below code cells to check your implementation** \n",
    "\n",
    "We can check this gradient calculation is correct by updating our weights vector and looking at our new prediction:"
   ]
  },
  {
   "cell_type": "code",
   "execution_count": null,
   "metadata": {
    "id": "mI3PalmtUm31"
   },
   "outputs": [],
   "source": [
    "# The gradient is in the direction of increasing loss,\n",
    "# so we subtract the gradient from w.\n",
    "W = W - 0.001 * dl_dw\n",
    "Z = z(W,x)\n",
    "F = f(Z)\n",
    "l = loss(y_single,F)\n",
    "print('Our updated prediction for y is: {}'.format(F))\n",
    "print('The loss is {}'.format(l))"
   ]
  },
  {
   "cell_type": "markdown",
   "metadata": {
    "id": "ghCcWZz0Um33"
   },
   "source": [
    "Looks good! We have only updated $\\mathbf{w}$ using information from a single data point. In practice we want to use all the data available. The following implements the gradient calculation for all data points, using vectorisation. Make sure you understand what is happening here:"
   ]
  },
  {
   "cell_type": "code",
   "execution_count": null,
   "metadata": {
    "id": "sLNQKa0tUm34"
   },
   "outputs": [],
   "source": [
    "w = np.zeros((1,X_train.shape[0]))\n",
    "\n",
    "# calculate the forward pass, and store the outputs at each stage\n",
    "Z = z(w,X_train)\n",
    "F = f(Z)\n",
    "l = loss(y_train, F)\n",
    "\n",
    "# To do - implement the backward pass\n",
    "dL_dw = np.matmul((F-y_train),X_train.T) \n",
    "\n",
    "print('dL_dw has shape: {}'.format(dL_dw.shape))\n",
    "\n",
    "grad_mean = dL_dw/n_examples"
   ]
  },
  {
   "cell_type": "markdown",
   "metadata": {
    "id": "ymGZxeArUm38"
   },
   "source": [
    "### Task 1.7 -  Putting it all together: the training loop\n",
    "\n",
    "We now have everything we need to train a logistic regression classifier using backprop.\n",
    "\n",
    "**To do** Fill out the training loop below referencing the code you have already written (or been given) in this notebook."
   ]
  },
  {
   "cell_type": "code",
   "execution_count": null,
   "metadata": {
    "id": "cRHEJ7jyUm39"
   },
   "outputs": [],
   "source": [
    "# initialise w to all zeros\n",
    "w = np.zeros((1,X_train.shape[0]))\n",
    "epsilon=1e-5\n",
    "# Normalise the data matrix (Ignoring the first row of ones which correspond to the bias term and is therefore all ones)\n",
    "X_norm = np.ones_like(X_train)\n",
    "X_norm[1:] = (X_train[1:] -X_train[1:].min(axis=1,keepdims=True) )/ (X_train[1:].max(axis=1,keepdims=True)-X_train[1:].min(axis=1,keepdims=True)+epsilon)\n",
    "# we'll store the loss and accuracy in these lists during training\n",
    "loss_record = []\n",
    "accuracy_record = []\n",
    "\n",
    "num_iterations = 5000\n",
    "learning_rate = 1e-4\n",
    "\n",
    "for i in range(num_iterations):\n",
    "    # forward pass - get predictions\n",
    "    #### STUDENT CODE HERE -replace nones ####\n",
    "    # answer\n",
    "    Z = None\n",
    "    F = None\n",
    "    l = None\n",
    "    \n",
    "    # store the loss/ accuracy at this iteration\n",
    "    accuracy_it=accuracy(y_train,F)\n",
    "    loss_record.append(l)\n",
    "    accuracy_record.append(accuracy_it)\n",
    "    \n",
    "    #backwards pass to get gradients\n",
    "    #### STUDENT CODE HERE - replace nones #### \n",
    "    # answer:\n",
    "    dL_dw = None\n",
    "\n",
    "    grad_mean = None\n",
    "    \n",
    "    # update the \n",
    "    w = w - learning_rate * grad_mean"
   ]
  },
  {
   "cell_type": "code",
   "execution_count": null,
   "metadata": {
    "id": "ETOhNWPEUm3-"
   },
   "outputs": [],
   "source": [
    "fig, ax = plt.subplots(1,2, figsize = (18,5))\n",
    "ax[0].plot(loss_record)\n",
    "ax[1].plot(accuracy_record)\n",
    "ax[0].set_xlabel('Epochs')\n",
    "ax[0].set_ylabel('Loss')\n",
    "ax[1].set_xlabel('Epochs')\n",
    "ax[1].set_ylabel('Accuracy');\n",
    "\n",
    "print(np.max(accuracy_record))"
   ]
  },
  {
   "cell_type": "markdown",
   "metadata": {
    "id": "ciZE5Ps1Um4A"
   },
   "source": [
    "###  Task 1.8 Now Testing on left out set\n",
    "\n",
    "**To do** test the performance of your logistic regression on your left out test set by running below code cell"
   ]
  },
  {
   "cell_type": "code",
   "execution_count": null,
   "metadata": {
    "id": "kykn9UOcUm4A"
   },
   "outputs": [],
   "source": [
    "# centre X\n",
    "X_test_norm= np.ones_like(X_test)\n",
    "X_test_norm[1:] = (X_test[1:] -X_test[1:].mean(axis=1,keepdims=True)) / (X_test[1:].max(axis=1,keepdims=True) - X_test[1:].min(axis=1,keepdims=True) +epsilon)\n",
    "\n",
    "Z_test = z(w,X_test_norm)\n",
    "F_test = f(Z_test)\n",
    "l = loss(y_test,F_test)\n",
    "\n",
    "print(l,accuracy(y_test,F_test))"
   ]
  },
  {
   "cell_type": "markdown",
   "metadata": {
    "id": "jCivWhgHUm4C"
   },
   "source": [
    "## Exercise 2 - The multi-layer perceptron (MLP)\n",
    "\n",
    "We Now want to extend this model to create a single hidden layer neural network:\n",
    "\n",
    ">  > > >  <img src=\"https://drive.google.com/uc?id=1-6-7Md_WFhe728yyDMfMfkjXavvl8jj9\" alt=\"Drawing\" style=\"width: 800px;\"/>\n",
    "\n",
    "The forward pass through such a network may be written as\n",
    "\n",
    "$$ \\hat{y} = f_2 \\left( \\mathbf{W_2} f_1 \\left(\\mathbf{W_1}\\mathbf{X}\\right) \\right) $$\n",
    "\n",
    "where $f_2$ is a non-linear activation function for the hidden layer (we use ReLu), \n",
    "\n",
    "$$ \\text{Relu}(x) = \\text{max}(0,x)$$\n",
    "\n",
    "$f_1$ is  a non-linear activation function for the output layer (we use sigmoid for classification) and  $\\mathbf{W_1}$ and $\\mathbf{W_2}$ are the weights matrices for each layer. The generic shapes of each matrix are demonstrated in the figure \n",
    "\n",
    "**In this toy example we ask you to instead create a network with 5 hidden neurons** \n",
    "\n",
    "\n",
    "**Question** Given the shape of our input data, and the fact that we are still seeking the solution to a binary classification what are the number of input and output units for this problem (answer below)? \n"
   ]
  },
  {
   "cell_type": "markdown",
   "metadata": {
    "id": "FFblPZjYUm4C"
   },
   "source": [
    "**Students Answer here**:"
   ]
  },
  {
   "cell_type": "markdown",
   "metadata": {
    "id": "seymm6tzUm4C"
   },
   "source": [
    "We now go about implementing our simple network from scratch with gradient descent based optimisation\n",
    "\n",
    "### The forward pass\n",
    "\n",
    "Once again, we can write the forward pass as a staged computation:\n",
    "\n",
    "$$\n",
    "\\mathbf{Z}_1 = \\mathbf{W}_1 \\mathbf{X} \\\\\n",
    "\\mathbf{F}_1 = \\text{max}(0,\\mathbf{Z_1}) \\\\\n",
    "\\mathbf{Z}_2 = \\mathbf{W}_2 \\mathbf{F}_1 \\\\\n",
    "\\mathbf{F}_2 = \\dfrac{1}{1+e^{- \\mathbf{Z_2}}} \\\\\n",
    "\\mathbf{L}  =  - \\mathbf{Y} \\ln(\\mathbf{F_2}) - (1-\\mathbf{Y}) \\ln(1-\\mathbf{F_2})\n",
    "$$\n",
    "\n",
    "we give you the code for the ReLU:"
   ]
  },
  {
   "cell_type": "code",
   "execution_count": null,
   "metadata": {
    "id": "FrrGMfaTUm4D"
   },
   "outputs": [],
   "source": [
    "def relu(x):\n",
    "    return x * (x>=0)"
   ]
  },
  {
   "cell_type": "markdown",
   "metadata": {
    "id": "M9dDY7_tUm4E"
   },
   "source": [
    "Let's implement the forward pass. \n",
    "\n",
    "\n",
    "### Task 2.1 Implement a forward pass of the MLP below: \n",
    "\n",
    "Use the vectorised expressions detailed above and ```np.random.randn``` to generate weights initialised with small random numbers. "
   ]
  },
  {
   "cell_type": "code",
   "execution_count": null,
   "metadata": {
    "id": "gxJKRMvBUm4F"
   },
   "outputs": [],
   "source": [
    "#### STUDENTS CODE HERE - replace nones ####\n",
    "# Answer\n",
    "W1 = None\n",
    "W2 = None\n",
    "Z1 = None\n",
    "F1 = None\n",
    "Z2 = None\n",
    "F2 = None # recall f is the sigmoid function\n",
    "l = loss(y_train,F2) \n"
   ]
  },
  {
   "cell_type": "markdown",
   "metadata": {
    "id": "38DgGYSlUm4G"
   },
   "source": [
    "### The backwards pass\n",
    "\n",
    "The vectorised gradients of our MLP computation graph are, in reverse order, as follows:\n",
    "\n",
    "$$\\frac{\\delta L}{\\delta \\mathbf{F}_2}=\\frac{\\mathbf{F}_2-\\mathbf{Y}}{\\mathbf{F}_2(1-\\mathbf{F}_2)} \\\\\n",
    "\\frac{\\delta  \\mathbf{F}_2}{\\delta  \\mathbf{Z}_2}=\\mathbf{F}_2(1-\\mathbf{F}_2) \\\\\n",
    "\\frac{\\delta  \\mathbf{Z}_2}{\\delta  \\mathbf{W}_2}=\\mathbf{X} \\\\\n",
    "\\frac{\\delta  \\mathbf{Z}_2}{\\delta  \\mathbf{F}_1}=\\mathbf{W}^T_2\\\\\n",
    "\\frac{\\delta  \\mathbf{F}_1}{\\delta  \\mathbf{Z}_1}=1(\\mathbf{Z}_1 >0)\\\\\n",
    "\\frac{\\delta  \\mathbf{Z}_1}{\\delta  \\mathbf{W}_1}=\\mathbf{X}\\\\\n",
    "$$\n",
    "\n",
    "\n",
    "Combining these together using the chain rule we get (from lecture)\n",
    "\n",
    "<img src=\"https://drive.google.com/uc?id=1xG9N-o0UYP836Ehr4A6FrBuq4sgsYqqW\" alt=\"Drawing\" style=\"width: 800px;\"/>\n",
    "\n",
    "\n",
    "**Task** implement the backward pass of the MLP in numpy code, and copy in the forward pass from above.\n",
    "\n",
    "**Hint** carefully consider the order in which the stages are combined (covered in the lecture). Check the dimensions of the outputs are as expected"
   ]
  },
  {
   "cell_type": "code",
   "execution_count": null,
   "metadata": {
    "id": "P1Pqke5MUm4H"
   },
   "outputs": [],
   "source": [
    "epsilon = 1e-5\n",
    "\n",
    "# norm X\n",
    "X_norm = np.ones_like(X_train)\n",
    "X_norm[1:] = (X_train[1:] -X_train[1:].min(axis=1,keepdims=True) )/ (X_train[1:].max(axis=1,keepdims=True)-X_train[1:].min(axis=1,keepdims=True)+epsilon)\n",
    "\n",
    "# initialise w1, w2\n",
    "W1 = np.random.randn(5,X_train.shape[0])\n",
    "W2 = np.random.randn(1,5)\n",
    "\n",
    "# we'll store the loss and accuracy in these lists during training\n",
    "loss_record_mlp = []\n",
    "accuracy_record_mlp = []\n",
    "\n",
    "num_iterations = 2000\n",
    "learning_rate = 1e-2\n",
    "\n",
    "\n",
    "for i in range(num_iterations):\n",
    "    # forward pass - get predictions\n",
    "    \n",
    "    #### STUDENT CODE HERE - replace Nones copying code from above ####\n",
    "    Z1 = None\n",
    "    F1 = None\n",
    "    Z2 = None\n",
    "    F2 = None  # recall f is the sigmoid function\n",
    "    l = loss(y_train,F2) \n",
    "\n",
    "    # store the loss/ accuracy at this iteration\n",
    "    loss_record_mlp.append(l)\n",
    "    accuracy_record_mlp.append(accuracy(y_train,F2))\n",
    "\n",
    "    \n",
    "    #backwards pass to get gradients\n",
    "    #### STUDENT CODE HERE - replace Nones  ####\n",
    "\n",
    "    dL_dW2=None\n",
    "    dL_df1=None \n",
    "    df2_dZ1  = 1.0 *(Z1> 0)\n",
    "    \n",
    "    dL_dZ1=None\n",
    "    dL_dW1 = None\n",
    "    dJ_dW2=(1/W2.shape[0])*dL_dW2 \n",
    "    dJ_dW1=(1/W1.shape[0])*dL_dW1 \n",
    "\n",
    "    # update the weights\n",
    "    W2 = W2 - learning_rate * dJ_dW2    \n",
    "    W1 = W1 - learning_rate * dJ_dW1\n",
    "    \n",
    "# plot loss and accuracy    \n",
    "fig, ax = plt.subplots(1,2, figsize = (18,5))\n",
    "ax[0].plot(loss_record_mlp)\n",
    "ax[1].plot(accuracy_record_mlp)\n",
    "ax[0].set_xlabel('Epochs')\n",
    "ax[0].set_ylabel('Loss')\n",
    "ax[1].set_xlabel('Epochs')\n",
    "ax[1].set_ylabel('Accuracy');\n",
    "\n",
    "print(accuracy(y_train,F2))"
   ]
  },
  {
   "cell_type": "markdown",
   "metadata": {
    "id": "KEAXgVTyUm4I"
   },
   "source": [
    "### Testing the performance of the MLP\n",
    "\n",
    "**To do** test the performance of your logistic regression by running the code on your left out test set"
   ]
  },
  {
   "cell_type": "code",
   "execution_count": null,
   "metadata": {
    "id": "65itxO2xUm4J"
   },
   "outputs": [],
   "source": [
    "Z1_test = np.matmul(W1,X_test_norm)\n",
    "F1_test = relu(Z1_test)\n",
    "Z2_test = np.matmul(W2,F1_test)\n",
    "F2_test = f(Z2_test) \n",
    "l = loss(y_test,F2_test) \n",
    "\n",
    "print(l,accuracy(y_test,F2_test))"
   ]
  },
  {
   "cell_type": "markdown",
   "metadata": {
    "id": "bK8ZiUE6Um4R"
   },
   "source": [
    "## Homework\n",
    "\n",
    "1. Using multiclass data implement a softmax multi-class classifier as \n",
    "    a) a single neuron\n",
    "    b) an MLP\n",
    "2. Try using a tanh or leaky relu in place of the relu function in the MLP classifier"
   ]
  },
  {
   "cell_type": "code",
   "execution_count": null,
   "metadata": {
    "id": "ACmMAgoAUm4R"
   },
   "outputs": [],
   "source": []
  }
 ],
 "metadata": {
  "colab": {
   "collapsed_sections": [],
   "name": "1.1-fundamentals.ipynb",
   "provenance": []
  },
  "kernelspec": {
   "display_name": "Python 3 (ipykernel)",
   "language": "python",
   "name": "python3"
  },
  "language_info": {
   "codemirror_mode": {
    "name": "ipython",
    "version": 3
   },
   "file_extension": ".py",
   "mimetype": "text/x-python",
   "name": "python",
   "nbconvert_exporter": "python",
   "pygments_lexer": "ipython3",
   "version": "3.7.13"
  }
 },
 "nbformat": 4,
 "nbformat_minor": 4
}
